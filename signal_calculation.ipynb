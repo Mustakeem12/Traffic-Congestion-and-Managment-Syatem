{
 "cells": [
  {
   "cell_type": "code",
   "execution_count": 3,
   "id": "a7a09f90-aaf0-47fb-a226-2e1f9722144f",
   "metadata": {},
   "outputs": [
    {
     "name": "stderr",
     "output_type": "stream",
     "text": [
      "Using cache found in C:\\Users\\vaish/.cache\\torch\\hub\\ultralytics_yolov5_master\n",
      "YOLOv5  2024-10-21 Python-3.12.4 torch-2.5.0+cpu CPU\n",
      "\n",
      "Fusing layers... \n",
      "YOLOv5s summary: 213 layers, 7225885 parameters, 0 gradients, 16.4 GFLOPs\n",
      "Adding AutoShape... \n",
      "C:\\Users\\vaish/.cache\\torch\\hub\\ultralytics_yolov5_master\\models\\common.py:892: FutureWarning: `torch.cuda.amp.autocast(args...)` is deprecated. Please use `torch.amp.autocast('cuda', args...)` instead.\n",
      "  with amp.autocast(autocast):\n"
     ]
    },
    {
     "name": "stdout",
     "output_type": "stream",
     "text": [
      "\n",
      "Processing Lane 1 Detection...\n",
      "Starting YOLOv5 detection...\n",
      "Detected vehicles: {'car': 17, 'bus': 2, 'bike': 0, 'truck': 10, 'rickshaw': 0}\n",
      "Calculated green signal time for Lane 1: 22 seconds\n",
      "\n",
      "Initial Signal Timings for Lane 1:\n",
      "Red: 0 seconds\n",
      "Green: 22 seconds\n",
      "Yellow: 5 seconds\n",
      "\n",
      "\n",
      "Processing Lane 2 Detection...\n",
      "Starting YOLOv5 detection...\n"
     ]
    },
    {
     "name": "stderr",
     "output_type": "stream",
     "text": [
      "C:\\Users\\vaish/.cache\\torch\\hub\\ultralytics_yolov5_master\\models\\common.py:892: FutureWarning: `torch.cuda.amp.autocast(args...)` is deprecated. Please use `torch.amp.autocast('cuda', args...)` instead.\n",
      "  with amp.autocast(autocast):\n"
     ]
    },
    {
     "name": "stdout",
     "output_type": "stream",
     "text": [
      "Detected vehicles: {'car': 5, 'bus': 2, 'bike': 0, 'truck': 1, 'rickshaw': 0}\n",
      "Calculated green signal time for Lane 2: 10 seconds\n",
      "\n",
      "Initial Signal Timings for Lane 2:\n",
      "Red: 27 seconds\n",
      "Green: 10 seconds\n",
      "Yellow: 5 seconds\n",
      "\n",
      "\n",
      "Processing Lane 3 Detection...\n",
      "Starting YOLOv5 detection...\n"
     ]
    },
    {
     "name": "stderr",
     "output_type": "stream",
     "text": [
      "C:\\Users\\vaish/.cache\\torch\\hub\\ultralytics_yolov5_master\\models\\common.py:892: FutureWarning: `torch.cuda.amp.autocast(args...)` is deprecated. Please use `torch.amp.autocast('cuda', args...)` instead.\n",
      "  with amp.autocast(autocast):\n"
     ]
    },
    {
     "name": "stdout",
     "output_type": "stream",
     "text": [
      "Detected vehicles: {'car': 26, 'bus': 5, 'bike': 0, 'truck': 0, 'rickshaw': 0}\n",
      "Calculated green signal time for Lane 3: 22 seconds\n",
      "\n",
      "Initial Signal Timings for Lane 3:\n",
      "Red: 42 seconds\n",
      "Green: 22 seconds\n",
      "Yellow: 5 seconds\n",
      "\n",
      "\n",
      "Processing Lane 4 Detection...\n",
      "Starting YOLOv5 detection...\n"
     ]
    },
    {
     "name": "stderr",
     "output_type": "stream",
     "text": [
      "C:\\Users\\vaish/.cache\\torch\\hub\\ultralytics_yolov5_master\\models\\common.py:892: FutureWarning: `torch.cuda.amp.autocast(args...)` is deprecated. Please use `torch.amp.autocast('cuda', args...)` instead.\n",
      "  with amp.autocast(autocast):\n"
     ]
    },
    {
     "name": "stdout",
     "output_type": "stream",
     "text": [
      "Detected vehicles: {'car': 22, 'bus': 2, 'bike': 0, 'truck': 5, 'rickshaw': 0}\n",
      "Calculated green signal time for Lane 4: 21 seconds\n",
      "\n",
      "Initial Signal Timings for Lane 4:\n",
      "Red: 69 seconds\n",
      "Green: 21 seconds\n",
      "Yellow: 5 seconds\n",
      "\n",
      "\n",
      "Processing Lane 5 Detection...\n",
      "Starting YOLOv5 detection...\n"
     ]
    },
    {
     "name": "stderr",
     "output_type": "stream",
     "text": [
      "C:\\Users\\vaish/.cache\\torch\\hub\\ultralytics_yolov5_master\\models\\common.py:892: FutureWarning: `torch.cuda.amp.autocast(args...)` is deprecated. Please use `torch.amp.autocast('cuda', args...)` instead.\n",
      "  with amp.autocast(autocast):\n"
     ]
    },
    {
     "name": "stdout",
     "output_type": "stream",
     "text": [
      "Detected vehicles: {'car': 8, 'bus': 0, 'bike': 0, 'truck': 8, 'rickshaw': 0}\n",
      "Calculated green signal time for Lane 5: 12 seconds\n",
      "\n",
      "Initial Signal Timings for Lane 5:\n",
      "Red: 95 seconds\n",
      "Green: 12 seconds\n",
      "Yellow: 5 seconds\n",
      "\n",
      "\n",
      "Processing Lane 6 Detection...\n",
      "Starting YOLOv5 detection...\n"
     ]
    },
    {
     "name": "stderr",
     "output_type": "stream",
     "text": [
      "C:\\Users\\vaish/.cache\\torch\\hub\\ultralytics_yolov5_master\\models\\common.py:892: FutureWarning: `torch.cuda.amp.autocast(args...)` is deprecated. Please use `torch.amp.autocast('cuda', args...)` instead.\n",
      "  with amp.autocast(autocast):\n"
     ]
    },
    {
     "name": "stdout",
     "output_type": "stream",
     "text": [
      "Detected vehicles: {'car': 14, 'bus': 4, 'bike': 0, 'truck': 10, 'rickshaw': 0}\n",
      "Calculated green signal time for Lane 6: 21 seconds\n",
      "\n",
      "Initial Signal Timings for Lane 6:\n",
      "Red: 112 seconds\n",
      "Green: 21 seconds\n",
      "Yellow: 5 seconds\n",
      "\n",
      "\n",
      "Processing Lane 7 Detection...\n",
      "Starting YOLOv5 detection...\n"
     ]
    },
    {
     "name": "stderr",
     "output_type": "stream",
     "text": [
      "C:\\Users\\vaish/.cache\\torch\\hub\\ultralytics_yolov5_master\\models\\common.py:892: FutureWarning: `torch.cuda.amp.autocast(args...)` is deprecated. Please use `torch.amp.autocast('cuda', args...)` instead.\n",
      "  with amp.autocast(autocast):\n"
     ]
    },
    {
     "name": "stdout",
     "output_type": "stream",
     "text": [
      "Detected vehicles: {'car': 10, 'bus': 6, 'bike': 0, 'truck': 1, 'rickshaw': 0}\n",
      "Calculated green signal time for Lane 7: 13 seconds\n",
      "\n",
      "Initial Signal Timings for Lane 7:\n",
      "Red: 138 seconds\n",
      "Green: 13 seconds\n",
      "Yellow: 5 seconds\n",
      "\n",
      "\n",
      "Processing Lane 8 Detection...\n",
      "Starting YOLOv5 detection...\n"
     ]
    },
    {
     "name": "stderr",
     "output_type": "stream",
     "text": [
      "C:\\Users\\vaish/.cache\\torch\\hub\\ultralytics_yolov5_master\\models\\common.py:892: FutureWarning: `torch.cuda.amp.autocast(args...)` is deprecated. Please use `torch.amp.autocast('cuda', args...)` instead.\n",
      "  with amp.autocast(autocast):\n"
     ]
    },
    {
     "name": "stdout",
     "output_type": "stream",
     "text": [
      "Detected vehicles: {'car': 20, 'bus': 3, 'bike': 0, 'truck': 6, 'rickshaw': 0}\n",
      "Calculated green signal time for Lane 8: 21 seconds\n",
      "\n",
      "Initial Signal Timings for Lane 8:\n",
      "Red: 156 seconds\n",
      "Green: 21 seconds\n",
      "Yellow: 5 seconds\n",
      "\n",
      "\n",
      "Final Signal Timings for Each Lane After Detection and Calculation:\n",
      "Lane 1: Red = 0s, Green = 22s, Yellow = 5s\n",
      "Lane 2: Red = 27s, Green = 10s, Yellow = 5s\n",
      "Lane 3: Red = 42s, Green = 22s, Yellow = 5s\n",
      "Lane 4: Red = 69s, Green = 21s, Yellow = 5s\n",
      "Lane 5: Red = 95s, Green = 12s, Yellow = 5s\n",
      "Lane 6: Red = 112s, Green = 21s, Yellow = 5s\n",
      "Lane 7: Red = 138s, Green = 13s, Yellow = 5s\n",
      "Lane 8: Red = 156s, Green = 21s, Yellow = 5s\n"
     ]
    }
   ],
   "source": [
    "import os\n",
    "import math\n",
    "import time\n",
    "import cv2\n",
    "import torch\n",
    "\n",
    "# Initialize YOLOv5 model\n",
    "model = torch.hub.load('ultralytics/yolov5', 'yolov5s')\n",
    "inputPath = os.getcwd() + \"/test_images/\"\n",
    "defaultGreen = 20\n",
    "defaultYellow = 5\n",
    "defaultMinimum = 10\n",
    "defaultMaximum = 60\n",
    "\n",
    "# Average times for vehicles to pass the intersection\n",
    "carTime = 2\n",
    "bikeTime = 1\n",
    "rickshawTime = 2.25\n",
    "busTime = 2.5\n",
    "truckTime = 2.5\n",
    "noOfLanes = 2\n",
    "signals = []\n",
    "\n",
    "def detectVehicles(filename):\n",
    "    \"\"\"Detect vehicles in the image and return vehicle counts.\"\"\"\n",
    "    vehicle_counts = {\"car\": 0, \"bus\": 0, \"bike\": 0, \"truck\": 0, \"rickshaw\": 0}\n",
    "    img = cv2.imread(inputPath + filename, cv2.IMREAD_COLOR)\n",
    "    results = model(inputPath + filename)\n",
    "    result_labels = results.pandas().xyxy[0]\n",
    "\n",
    "    for _, vehicle in result_labels.iterrows():\n",
    "        label = vehicle['name']\n",
    "        if label in vehicle_counts:\n",
    "            vehicle_counts[label] += 1\n",
    "    return vehicle_counts\n",
    "\n",
    "def calculateGreenTime(vehicle_counts):\n",
    "    \"\"\"Calculate green time based on vehicle counts.\"\"\"\n",
    "    noOfCars = vehicle_counts.get(\"car\", 0)\n",
    "    noOfBikes = vehicle_counts.get(\"bike\", 0)\n",
    "    noOfRickshaws = vehicle_counts.get(\"rickshaw\", 0)\n",
    "    noOfBuses = vehicle_counts.get(\"bus\", 0)\n",
    "    noOfTrucks = vehicle_counts.get(\"truck\", 0)\n",
    "\n",
    "    # Calculate green signal time\n",
    "    greenTime = math.ceil(((noOfCars * carTime) + (noOfRickshaws * rickshawTime) +\n",
    "                           (noOfBuses * busTime) + (noOfTrucks * truckTime) +\n",
    "                           (noOfBikes * bikeTime)) / (noOfLanes + 1))\n",
    "    return max(min(greenTime, defaultMaximum), defaultMinimum)\n",
    "\n",
    "def calculateRedTime(current_lane_green, all_green_times):\n",
    "    \"\"\"Calculate red time for a lane based on the green times of other lanes.\"\"\"\n",
    "    return sum(all_green_times) - current_lane_green + (defaultYellow * (len(all_green_times) - 1))\n",
    "\n",
    "def processLanes():\n",
    "    \"\"\"Process each lane and calculate signal timings.\"\"\"\n",
    "    image_files = sorted([f for f in os.listdir(inputPath) if f.endswith(\".jpg\")])\n",
    "    signal_times = []\n",
    "\n",
    "    all_green_times = []  # To store green times for each lane\n",
    "\n",
    "    for i, image_file in enumerate(image_files):\n",
    "        print(f\"\\nProcessing Lane {i+1} Detection...\")\n",
    "        print(\"Starting YOLOv5 detection...\")\n",
    "        \n",
    "        # Step 1: Vehicle detection\n",
    "        vehicle_counts = detectVehicles(image_file)\n",
    "        print(f\"Detected vehicles: {vehicle_counts}\")\n",
    "        \n",
    "        # Step 2: Calculate green signal time\n",
    "        green_time = calculateGreenTime(vehicle_counts)\n",
    "        all_green_times.append(green_time)\n",
    "        \n",
    "        print(f\"Calculated green signal time for Lane {i+1}: {green_time} seconds\")\n",
    "\n",
    "        # Display initial signal timings\n",
    "        red_time = calculateRedTime(green_time, all_green_times)\n",
    "        print(f\"\\nInitial Signal Timings for Lane {i+1}:\")\n",
    "        print(f\"Red: {red_time} seconds\")\n",
    "        print(f\"Green: {green_time} seconds\")\n",
    "        print(f\"Yellow: {defaultYellow} seconds\\n\")\n",
    "        \n",
    "        # Store the times for each lane in a tuple format (red, green, yellow)\n",
    "        signal_times.append((red_time, green_time, defaultYellow))\n",
    "\n",
    "        # Simulate delay\n",
    "        time.sleep(1)\n",
    "\n",
    "    # Final timings for each lane after all lanes are processed\n",
    "    print(\"\\nFinal Signal Timings for Each Lane After Detection and Calculation:\")\n",
    "    for idx, times in enumerate(signal_times, 1):\n",
    "        print(f\"Lane {idx}: Red = {times[0]}s, Green = {times[1]}s, Yellow = {times[2]}s\")\n",
    "\n",
    "    # Save green signal times for simulation\n",
    "    with open(\"signal_times.txt\", \"w\") as f:\n",
    "        for times in signal_times:\n",
    "            f.write(f\"{times[1]}\\n\")  # Only write green time for simulation\n",
    "\n",
    "if __name__ == \"__main__\":\n",
    "    # Process lanes and output signal timings\n",
    "    processLanes()\n"
   ]
  },
  {
   "cell_type": "code",
   "execution_count": 9,
   "id": "d52dce9e-0263-4981-8b7f-946b88b1268c",
   "metadata": {},
   "outputs": [],
   "source": [
    "# with storing output at output_images:"
   ]
  },
  {
   "cell_type": "code",
   "execution_count": 7,
   "id": "801dcebc-bcd6-49a4-8eb5-a9499e1af4a7",
   "metadata": {},
   "outputs": [
    {
     "name": "stderr",
     "output_type": "stream",
     "text": [
      "Using cache found in C:\\Users\\vaish/.cache\\torch\\hub\\ultralytics_yolov5_master\n",
      "YOLOv5  2024-10-21 Python-3.12.4 torch-2.5.0+cpu CPU\n",
      "\n",
      "Fusing layers... \n",
      "YOLOv5s summary: 213 layers, 7225885 parameters, 0 gradients, 16.4 GFLOPs\n",
      "Adding AutoShape... \n",
      "C:\\Users\\vaish/.cache\\torch\\hub\\ultralytics_yolov5_master\\models\\common.py:892: FutureWarning: `torch.cuda.amp.autocast(args...)` is deprecated. Please use `torch.amp.autocast('cuda', args...)` instead.\n",
      "  with amp.autocast(autocast):\n"
     ]
    },
    {
     "name": "stdout",
     "output_type": "stream",
     "text": [
      "\n",
      "Processing Lane 1 Detection...\n",
      "Starting YOLOv5 detection...\n",
      "Detected vehicles: {'car': 17, 'bus': 2, 'bike': 0, 'truck': 10, 'rickshaw': 0}\n",
      "Calculated green signal time for Lane 1: 22 seconds\n",
      "\n",
      "Initial Signal Timings for Lane 1:\n",
      "Red: 0 seconds\n",
      "Green: 22 seconds\n",
      "Yellow: 5 seconds\n",
      "\n",
      "\n",
      "Processing Lane 2 Detection...\n",
      "Starting YOLOv5 detection...\n"
     ]
    },
    {
     "name": "stderr",
     "output_type": "stream",
     "text": [
      "C:\\Users\\vaish/.cache\\torch\\hub\\ultralytics_yolov5_master\\models\\common.py:892: FutureWarning: `torch.cuda.amp.autocast(args...)` is deprecated. Please use `torch.amp.autocast('cuda', args...)` instead.\n",
      "  with amp.autocast(autocast):\n"
     ]
    },
    {
     "name": "stdout",
     "output_type": "stream",
     "text": [
      "Detected vehicles: {'car': 5, 'bus': 2, 'bike': 0, 'truck': 1, 'rickshaw': 0}\n",
      "Calculated green signal time for Lane 2: 10 seconds\n",
      "\n",
      "Initial Signal Timings for Lane 2:\n",
      "Red: 27 seconds\n",
      "Green: 10 seconds\n",
      "Yellow: 5 seconds\n",
      "\n",
      "\n",
      "Processing Lane 3 Detection...\n",
      "Starting YOLOv5 detection...\n"
     ]
    },
    {
     "name": "stderr",
     "output_type": "stream",
     "text": [
      "C:\\Users\\vaish/.cache\\torch\\hub\\ultralytics_yolov5_master\\models\\common.py:892: FutureWarning: `torch.cuda.amp.autocast(args...)` is deprecated. Please use `torch.amp.autocast('cuda', args...)` instead.\n",
      "  with amp.autocast(autocast):\n"
     ]
    },
    {
     "name": "stdout",
     "output_type": "stream",
     "text": [
      "Detected vehicles: {'car': 26, 'bus': 5, 'bike': 0, 'truck': 0, 'rickshaw': 0}\n",
      "Calculated green signal time for Lane 3: 22 seconds\n",
      "\n",
      "Initial Signal Timings for Lane 3:\n",
      "Red: 42 seconds\n",
      "Green: 22 seconds\n",
      "Yellow: 5 seconds\n",
      "\n",
      "\n",
      "Processing Lane 4 Detection...\n",
      "Starting YOLOv5 detection...\n"
     ]
    },
    {
     "name": "stderr",
     "output_type": "stream",
     "text": [
      "C:\\Users\\vaish/.cache\\torch\\hub\\ultralytics_yolov5_master\\models\\common.py:892: FutureWarning: `torch.cuda.amp.autocast(args...)` is deprecated. Please use `torch.amp.autocast('cuda', args...)` instead.\n",
      "  with amp.autocast(autocast):\n"
     ]
    },
    {
     "name": "stdout",
     "output_type": "stream",
     "text": [
      "Detected vehicles: {'car': 22, 'bus': 2, 'bike': 0, 'truck': 5, 'rickshaw': 0}\n",
      "Calculated green signal time for Lane 4: 21 seconds\n",
      "\n",
      "Initial Signal Timings for Lane 4:\n",
      "Red: 69 seconds\n",
      "Green: 21 seconds\n",
      "Yellow: 5 seconds\n",
      "\n",
      "\n",
      "Processing Lane 5 Detection...\n",
      "Starting YOLOv5 detection...\n"
     ]
    },
    {
     "name": "stderr",
     "output_type": "stream",
     "text": [
      "C:\\Users\\vaish/.cache\\torch\\hub\\ultralytics_yolov5_master\\models\\common.py:892: FutureWarning: `torch.cuda.amp.autocast(args...)` is deprecated. Please use `torch.amp.autocast('cuda', args...)` instead.\n",
      "  with amp.autocast(autocast):\n"
     ]
    },
    {
     "name": "stdout",
     "output_type": "stream",
     "text": [
      "Detected vehicles: {'car': 8, 'bus': 0, 'bike': 0, 'truck': 8, 'rickshaw': 0}\n",
      "Calculated green signal time for Lane 5: 12 seconds\n",
      "\n",
      "Initial Signal Timings for Lane 5:\n",
      "Red: 95 seconds\n",
      "Green: 12 seconds\n",
      "Yellow: 5 seconds\n",
      "\n",
      "\n",
      "Processing Lane 6 Detection...\n",
      "Starting YOLOv5 detection...\n"
     ]
    },
    {
     "name": "stderr",
     "output_type": "stream",
     "text": [
      "C:\\Users\\vaish/.cache\\torch\\hub\\ultralytics_yolov5_master\\models\\common.py:892: FutureWarning: `torch.cuda.amp.autocast(args...)` is deprecated. Please use `torch.amp.autocast('cuda', args...)` instead.\n",
      "  with amp.autocast(autocast):\n"
     ]
    },
    {
     "name": "stdout",
     "output_type": "stream",
     "text": [
      "Detected vehicles: {'car': 14, 'bus': 4, 'bike': 0, 'truck': 10, 'rickshaw': 0}\n",
      "Calculated green signal time for Lane 6: 21 seconds\n",
      "\n",
      "Initial Signal Timings for Lane 6:\n",
      "Red: 112 seconds\n",
      "Green: 21 seconds\n",
      "Yellow: 5 seconds\n",
      "\n",
      "\n",
      "Processing Lane 7 Detection...\n",
      "Starting YOLOv5 detection...\n"
     ]
    },
    {
     "name": "stderr",
     "output_type": "stream",
     "text": [
      "C:\\Users\\vaish/.cache\\torch\\hub\\ultralytics_yolov5_master\\models\\common.py:892: FutureWarning: `torch.cuda.amp.autocast(args...)` is deprecated. Please use `torch.amp.autocast('cuda', args...)` instead.\n",
      "  with amp.autocast(autocast):\n"
     ]
    },
    {
     "name": "stdout",
     "output_type": "stream",
     "text": [
      "Detected vehicles: {'car': 10, 'bus': 6, 'bike': 0, 'truck': 1, 'rickshaw': 0}\n",
      "Calculated green signal time for Lane 7: 13 seconds\n",
      "\n",
      "Initial Signal Timings for Lane 7:\n",
      "Red: 138 seconds\n",
      "Green: 13 seconds\n",
      "Yellow: 5 seconds\n",
      "\n",
      "\n",
      "Processing Lane 8 Detection...\n",
      "Starting YOLOv5 detection...\n"
     ]
    },
    {
     "name": "stderr",
     "output_type": "stream",
     "text": [
      "C:\\Users\\vaish/.cache\\torch\\hub\\ultralytics_yolov5_master\\models\\common.py:892: FutureWarning: `torch.cuda.amp.autocast(args...)` is deprecated. Please use `torch.amp.autocast('cuda', args...)` instead.\n",
      "  with amp.autocast(autocast):\n"
     ]
    },
    {
     "name": "stdout",
     "output_type": "stream",
     "text": [
      "Detected vehicles: {'car': 20, 'bus': 3, 'bike': 0, 'truck': 6, 'rickshaw': 0}\n",
      "Calculated green signal time for Lane 8: 21 seconds\n",
      "\n",
      "Initial Signal Timings for Lane 8:\n",
      "Red: 156 seconds\n",
      "Green: 21 seconds\n",
      "Yellow: 5 seconds\n",
      "\n",
      "\n",
      "Final Signal Timings for Each Lane After Detection and Calculation:\n",
      "Lane 1: Red = 0s, Green = 22s, Yellow = 5s\n",
      "Lane 2: Red = 27s, Green = 10s, Yellow = 5s\n",
      "Lane 3: Red = 42s, Green = 22s, Yellow = 5s\n",
      "Lane 4: Red = 69s, Green = 21s, Yellow = 5s\n",
      "Lane 5: Red = 95s, Green = 12s, Yellow = 5s\n",
      "Lane 6: Red = 112s, Green = 21s, Yellow = 5s\n",
      "Lane 7: Red = 138s, Green = 13s, Yellow = 5s\n",
      "Lane 8: Red = 156s, Green = 21s, Yellow = 5s\n"
     ]
    }
   ],
   "source": [
    "import os\n",
    "import math\n",
    "import time\n",
    "import cv2\n",
    "import torch\n",
    "\n",
    "# Initialize YOLOv5 model\n",
    "model = torch.hub.load('ultralytics/yolov5', 'yolov5s')\n",
    "inputPath = os.getcwd() + \"/test_images/\"\n",
    "outputPath = os.getcwd() + \"/output_images/\"\n",
    "os.makedirs(outputPath, exist_ok=True)  # Ensure output directory exists\n",
    "defaultGreen = 20\n",
    "defaultYellow = 5\n",
    "defaultMinimum = 10\n",
    "defaultMaximum = 60\n",
    "\n",
    "# Average times for vehicles to pass the intersection\n",
    "carTime = 2\n",
    "bikeTime = 1\n",
    "rickshawTime = 2.25\n",
    "busTime = 2.5\n",
    "truckTime = 2.5\n",
    "noOfLanes = 2\n",
    "signals = []\n",
    "\n",
    "def detectVehicles(filename):\n",
    "    \"\"\"Detect vehicles in the image, save output, and return vehicle counts.\"\"\"\n",
    "    vehicle_counts = {\"car\": 0, \"bus\": 0, \"bike\": 0, \"truck\": 0, \"rickshaw\": 0}\n",
    "    img = cv2.imread(inputPath + filename, cv2.IMREAD_COLOR)\n",
    "    results = model(inputPath + filename)\n",
    "    \n",
    "    # Extract vehicle details and count them\n",
    "    result_labels = results.pandas().xyxy[0]\n",
    "    for _, vehicle in result_labels.iterrows():\n",
    "        label = vehicle['name']\n",
    "        if label in vehicle_counts:\n",
    "            vehicle_counts[label] += 1\n",
    "\n",
    "        # Draw bounding boxes on the image\n",
    "        x_min, y_min, x_max, y_max = int(vehicle['xmin']), int(vehicle['ymin']), int(vehicle['xmax']), int(vehicle['ymax'])\n",
    "        cv2.rectangle(img, (x_min, y_min), (x_max, y_max), (0, 255, 0), 2)\n",
    "        cv2.putText(img, label, (x_min, y_min - 10), cv2.FONT_HERSHEY_SIMPLEX, 0.6, (0, 255, 0), 2)\n",
    "\n",
    "    # Save the image with detected objects to the output folder\n",
    "    output_file = os.path.join(outputPath, filename)\n",
    "    cv2.imwrite(output_file, img)\n",
    "    \n",
    "    return vehicle_counts\n",
    "\n",
    "def calculateGreenTime(vehicle_counts):\n",
    "    \"\"\"Calculate green time based on vehicle counts.\"\"\"\n",
    "    noOfCars = vehicle_counts.get(\"car\", 0)\n",
    "    noOfBikes = vehicle_counts.get(\"bike\", 0)\n",
    "    noOfRickshaws = vehicle_counts.get(\"rickshaw\", 0)\n",
    "    noOfBuses = vehicle_counts.get(\"bus\", 0)\n",
    "    noOfTrucks = vehicle_counts.get(\"truck\", 0)\n",
    "\n",
    "    # Calculate green signal time\n",
    "    greenTime = math.ceil(((noOfCars * carTime) + (noOfRickshaws * rickshawTime) +\n",
    "                           (noOfBuses * busTime) + (noOfTrucks * truckTime) +\n",
    "                           (noOfBikes * bikeTime)) / (noOfLanes + 1))\n",
    "    return max(min(greenTime, defaultMaximum), defaultMinimum)\n",
    "\n",
    "def calculateRedTime(current_lane_green, all_green_times):\n",
    "    \"\"\"Calculate red time for a lane based on the green times of other lanes.\"\"\"\n",
    "    return sum(all_green_times) - current_lane_green + (defaultYellow * (len(all_green_times) - 1))\n",
    "\n",
    "def processLanes():\n",
    "    \"\"\"Process each lane and calculate signal timings.\"\"\"\n",
    "    image_files = sorted([f for f in os.listdir(inputPath) if f.endswith(\".jpg\")])\n",
    "    signal_times = []\n",
    "\n",
    "    all_green_times = []  # To store green times for each lane\n",
    "\n",
    "    for i, image_file in enumerate(image_files):\n",
    "        print(f\"\\nProcessing Lane {i+1} Detection...\")\n",
    "        print(\"Starting YOLOv5 detection...\")\n",
    "        \n",
    "        # Step 1: Vehicle detection\n",
    "        vehicle_counts = detectVehicles(image_file)\n",
    "        print(f\"Detected vehicles: {vehicle_counts}\")\n",
    "        \n",
    "        # Step 2: Calculate green signal time\n",
    "        green_time = calculateGreenTime(vehicle_counts)\n",
    "        all_green_times.append(green_time)\n",
    "        \n",
    "        print(f\"Calculated green signal time for Lane {i+1}: {green_time} seconds\")\n",
    "\n",
    "        # Display initial signal timings\n",
    "        red_time = calculateRedTime(green_time, all_green_times)\n",
    "        print(f\"\\nInitial Signal Timings for Lane {i+1}:\")\n",
    "        print(f\"Red: {red_time} seconds\")\n",
    "        print(f\"Green: {green_time} seconds\")\n",
    "        print(f\"Yellow: {defaultYellow} seconds\\n\")\n",
    "        \n",
    "        # Store the times for each lane in a tuple format (red, green, yellow)\n",
    "        signal_times.append((red_time, green_time, defaultYellow))\n",
    "\n",
    "        # Simulate delay\n",
    "        time.sleep(1)\n",
    "\n",
    "    # Final timings for each lane after all lanes are processed\n",
    "    print(\"\\nFinal Signal Timings for Each Lane After Detection and Calculation:\")\n",
    "    for idx, times in enumerate(signal_times, 1):\n",
    "        print(f\"Lane {idx}: Red = {times[0]}s, Green = {times[1]}s, Yellow = {times[2]}s\")\n",
    "\n",
    "    # Save green signal times for simulation\n",
    "    with open(\"signal_times.txt\", \"w\") as f:\n",
    "        for times in signal_times:\n",
    "            f.write(f\"{times[1]}\\n\")  # Only write green time for simulation\n",
    "\n",
    "if __name__ == \"__main__\":\n",
    "    # Process lanes and output signal timings\n",
    "    processLanes()\n"
   ]
  },
  {
   "cell_type": "code",
   "execution_count": null,
   "id": "4e20900c-d51f-4c15-a7b0-fb1a52a64a24",
   "metadata": {},
   "outputs": [],
   "source": []
  }
 ],
 "metadata": {
  "kernelspec": {
   "display_name": "Python 3 (ipykernel)",
   "language": "python",
   "name": "python3"
  },
  "language_info": {
   "codemirror_mode": {
    "name": "ipython",
    "version": 3
   },
   "file_extension": ".py",
   "mimetype": "text/x-python",
   "name": "python",
   "nbconvert_exporter": "python",
   "pygments_lexer": "ipython3",
   "version": "3.12.4"
  }
 },
 "nbformat": 4,
 "nbformat_minor": 5
}
